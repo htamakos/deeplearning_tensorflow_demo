{
 "cells": [
  {
   "attachments": {},
   "cell_type": "markdown",
   "metadata": {},
   "source": [
    "# Demo3 - より高精度なモデルを使った学習"
   ]
  },
  {
   "cell_type": "code",
   "execution_count": 1,
   "metadata": {
    "collapsed": true
   },
   "outputs": [],
   "source": [
    "import numpy as np\n",
    "import tensorflow as tf\n",
    "import tfgraphviz as tfg\n",
    "from tensorflow.examples.tutorials.mnist import input_data\n",
    "import matplotlib.pyplot as plt\n",
    "import seaborn as sns\n",
    "import tabulate\n",
    "from sklearn.model_selection import train_test_split\n",
    "%matplotlib inline"
   ]
  },
  {
   "cell_type": "markdown",
   "metadata": {},
   "source": [
    "## 1. データの準備"
   ]
  },
  {
   "cell_type": "code",
   "execution_count": 2,
   "metadata": {},
   "outputs": [
    {
     "name": "stdout",
     "output_type": "stream",
     "text": [
      "Extracting MNIST_data/train-images-idx3-ubyte.gz\n",
      "Extracting MNIST_data/train-labels-idx1-ubyte.gz\n",
      "Extracting MNIST_data/t10k-images-idx3-ubyte.gz\n",
      "Extracting MNIST_data/t10k-labels-idx1-ubyte.gz\n",
      "\n",
      "Data Info\n",
      "         value\n",
      "-----  -------\n",
      "train    55000\n",
      "test     10000\n"
     ]
    },
    {
     "data": {
      "image/png": "[encoded data removed]",
      "text/plain": [
       "<matplotlib.figure.Figure at 0x7fe51c2e1e48>"
      ]
     },
     "metadata": {},
     "output_type": "display_data"
    }
   ],
   "source": [
    "# データの準備\n",
    "mnist = input_data.read_data_sets('MNIST_data', one_hot=True)\n",
    "\n",
    "# データの情報表示\n",
    "data_info = [\n",
    "    ['train', mnist.train.images.shape[0]],\n",
    "    ['test', mnist.test.images.shape[0]]\n",
    "]\n",
    "\n",
    "print('\\nData Info')\n",
    "print(tabulate.tabulate(data_info, ['value']))\n",
    "\n",
    "# 1枚画像を表示する\n",
    "sns.set_style('dark')\n",
    "plt.imshow(mnist.train.images[0].reshape([28, 28]))\n",
    "plt.gray()"
   ]
  },
  {
   "cell_type": "code",
   "execution_count": 3,
   "metadata": {
    "collapsed": true
   },
   "outputs": [],
   "source": [
    "def weight_variable(shape):\n",
    "    init = tf.truncated_normal(shape=shape, stddev=0.1)\n",
    "    return tf.Variable(init)\n",
    "\n",
    "def bias_variable(shape):\n",
    "    init = tf.constant(0.1, shape=shape)\n",
    "    return tf.Variable(init)\n",
    "\n",
    "def conv2d(x, W, b):\n",
    "    conv2d = tf.nn.conv2d(x, W, strides=[1, 1, 1, 1], padding='SAME')\n",
    "    return tf.nn.relu(conv2d + b)\n",
    "\n",
    "def max_pool2x2(x):\n",
    "    return tf.nn.max_pool(x, ksize=[1, 2, 2, 1], strides=[1, 2, 2, 1], padding='SAME')"
   ]
  },
  {
   "cell_type": "markdown",
   "metadata": {},
   "source": [
    "## 2. モデルの構築"
   ]
  },
  {
   "cell_type": "code",
   "execution_count": 9,
   "metadata": {},
   "outputs": [
    {
     "data": {
      "image/svg+xml": [
       "<?xml version=\"1.0\" encoding=\"UTF-8\" standalone=\"no\"?>\n",
       "<!DOCTYPE svg PUBLIC \"-//W3C//DTD SVG 1.1//EN\"\n",
       " \"http://www.w3.org/Graphics/SVG/1.1/DTD/svg11.dtd\">\n",
       "<!-- Generated by graphviz version 2.30.1 (20150310.1907)\n",
       " -->\n",
       "<!-- Title: G Pages: 1 -->\n",
       "<svg width=\"495pt\" height=\"692pt\"\n",
       " viewBox=\"0.00 0.00 495.00 692.00\" xmlns=\"http://www.w3.org/2000/svg\" xmlns:xlink=\"http://www.w3.org/1999/xlink\">\n",
       "<g id=\"graph0\" class=\"graph\" transform=\"scale(1 1) rotate(0) translate(4 688)\">\n",
       "<title>G</title>\n",
       "<polygon fill=\"white\" stroke=\"white\" points=\"-4,5 -4,-688 492,-688 492,5 -4,5\"/>\n",
       "<!-- input -->\n",
       "<g id=\"node1\" class=\"node\"><title>input</title>\n",
       "<ellipse fill=\"white\" stroke=\"#aaaaaa\" stroke-width=\"2\" cx=\"232\" cy=\"-666\" rx=\"35.1455\" ry=\"18\"/>\n",
       "<text text-anchor=\"middle\" x=\"232\" y=\"-662.3\" font-family=\"Times,serif\" font-size=\"14.00\" fill=\"#414141\">input</text>\n",
       "</g>\n",
       "<!-- conv1 -->\n",
       "<g id=\"node2\" class=\"node\"><title>conv1</title>\n",
       "<ellipse fill=\"white\" stroke=\"#aaaaaa\" stroke-width=\"2\" cx=\"353\" cy=\"-594\" rx=\"38.0212\" ry=\"18\"/>\n",
       "<text text-anchor=\"middle\" x=\"353\" y=\"-590.3\" font-family=\"Times,serif\" font-size=\"14.00\" fill=\"#414141\">conv1</text>\n",
       "</g>\n",
       "<!-- input&#45;&gt;conv1 -->\n",
       "<g id=\"edge1\" class=\"edge\"><title>input&#45;&gt;conv1</title>\n",
       "<path fill=\"none\" stroke=\"#aaaaaa\" stroke-width=\"2.5\" d=\"M254.476,-651.998C272.666,-641.474 298.57,-626.488 319.251,-614.524\"/>\n",
       "<polygon fill=\"#aaaaaa\" stroke=\"#aaaaaa\" points=\"321.537,-618.054 329.821,-608.409 317.331,-610.783 321.537,-618.054\"/>\n",
       "</g>\n",
       "<!-- loss -->\n",
       "<g id=\"node9\" class=\"node\"><title>loss</title>\n",
       "<ellipse fill=\"white\" stroke=\"#aaaaaa\" stroke-width=\"2\" cx=\"28\" cy=\"-90\" rx=\"28.3955\" ry=\"18\"/>\n",
       "<text text-anchor=\"middle\" x=\"28\" y=\"-86.3\" font-family=\"Times,serif\" font-size=\"14.00\" fill=\"#414141\">loss</text>\n",
       "</g>\n",
       "<!-- input&#45;&gt;loss -->\n",
       "<g id=\"edge8\" class=\"edge\"><title>input&#45;&gt;loss</title>\n",
       "<path fill=\"none\" stroke=\"#aaaaaa\" stroke-width=\"2.5\" d=\"M202.374,-656.345C151.987,-639.594 55,-597.655 55,-523 55,-523 55,-523 55,-233 55,-193.176 44.6244,-148.158 36.737,-119.69\"/>\n",
       "<polygon fill=\"#aaaaaa\" stroke=\"#aaaaaa\" points=\"40.6861,-118.225 33.3343,-107.852 32.613,-120.545 40.6861,-118.225\"/>\n",
       "</g>\n",
       "<!-- training -->\n",
       "<g id=\"node10\" class=\"node\"><title>training</title>\n",
       "<ellipse fill=\"white\" stroke=\"#aaaaaa\" stroke-width=\"2\" cx=\"335\" cy=\"-18\" rx=\"48.1437\" ry=\"18\"/>\n",
       "<text text-anchor=\"middle\" x=\"335\" y=\"-14.3\" font-family=\"Times,serif\" font-size=\"14.00\" fill=\"#414141\">training</text>\n",
       "</g>\n",
       "<!-- input&#45;&gt;training -->\n",
       "<g id=\"edge17\" class=\"edge\"><title>input&#45;&gt;training</title>\n",
       "<path fill=\"none\" stroke=\"#aaaaaa\" stroke-width=\"2.5\" d=\"M266.126,-661.789C335.611,-653.179 487,-622.951 487,-523 487,-523 487,-523 487,-161 487,-100.909 422.781,-58.9416 377.827,-36.9254\"/>\n",
       "<polygon fill=\"#aaaaaa\" stroke=\"#aaaaaa\" points=\"379.51,-33.0753 366.864,-31.7591 375.929,-40.6738 379.51,-33.0753\"/>\n",
       "</g>\n",
       "<!-- evaluation -->\n",
       "<g id=\"node11\" class=\"node\"><title>evaluation</title>\n",
       "<ellipse fill=\"white\" stroke=\"#aaaaaa\" stroke-width=\"2\" cx=\"134\" cy=\"-90\" rx=\"59.2173\" ry=\"18\"/>\n",
       "<text text-anchor=\"middle\" x=\"134\" y=\"-86.3\" font-family=\"Times,serif\" font-size=\"14.00\" fill=\"#414141\">evaluation</text>\n",
       "</g>\n",
       "<!-- input&#45;&gt;evaluation -->\n",
       "<g id=\"edge20\" class=\"edge\"><title>input&#45;&gt;evaluation</title>\n",
       "<path fill=\"none\" stroke=\"#aaaaaa\" stroke-width=\"2.5\" d=\"M210.48,-651.56C177.694,-629.227 119,-581.129 119,-523 119,-523 119,-523 119,-233 119,-193.66 124.764,-148.526 129.146,-119.899\"/>\n",
       "<polygon fill=\"#aaaaaa\" stroke=\"#aaaaaa\" points=\"133.304,-120.498 131.036,-107.988 125.007,-119.181 133.304,-120.498\"/>\n",
       "</g>\n",
       "<!-- max_pool1 -->\n",
       "<g id=\"node3\" class=\"node\"><title>max_pool1</title>\n",
       "<ellipse fill=\"white\" stroke=\"#aaaaaa\" stroke-width=\"2\" cx=\"353\" cy=\"-522\" rx=\"60.1672\" ry=\"18\"/>\n",
       "<text text-anchor=\"middle\" x=\"353\" y=\"-518.3\" font-family=\"Times,serif\" font-size=\"14.00\" fill=\"#414141\">max_pool1</text>\n",
       "</g>\n",
       "<!-- conv1&#45;&gt;max_pool1 -->\n",
       "<g id=\"edge2\" class=\"edge\"><title>conv1&#45;&gt;max_pool1</title>\n",
       "<path fill=\"none\" stroke=\"#aaaaaa\" stroke-width=\"2.5\" d=\"M353,-575.697C353,-568.576 353,-560.129 353,-552.108\"/>\n",
       "<polygon fill=\"#aaaaaa\" stroke=\"#aaaaaa\" points=\"357.2,-552.104 353,-540.104 348.8,-552.104 357.2,-552.104\"/>\n",
       "</g>\n",
       "<!-- conv1&#45;&gt;training -->\n",
       "<g id=\"edge12\" class=\"edge\"><title>conv1&#45;&gt;training</title>\n",
       "<path fill=\"none\" stroke=\"#aaaaaa\" stroke-width=\"2.5\" d=\"M376.898,-579.911C391.845,-570.592 410.399,-556.77 422,-540 445.516,-506.005 449,-492.336 449,-451 449,-451 449,-451 449,-161 449,-109.143 402.197,-65.441 368.568,-40.7341\"/>\n",
       "<polygon fill=\"#aaaaaa\" stroke=\"#aaaaaa\" points=\"370.841,-37.1972 358.621,-33.6883 365.985,-44.0518 370.841,-37.1972\"/>\n",
       "</g>\n",
       "<!-- conv2 -->\n",
       "<g id=\"node4\" class=\"node\"><title>conv2</title>\n",
       "<ellipse fill=\"white\" stroke=\"#aaaaaa\" stroke-width=\"2\" cx=\"345\" cy=\"-450\" rx=\"38.0212\" ry=\"18\"/>\n",
       "<text text-anchor=\"middle\" x=\"345\" y=\"-446.3\" font-family=\"Times,serif\" font-size=\"14.00\" fill=\"#414141\">conv2</text>\n",
       "</g>\n",
       "<!-- max_pool1&#45;&gt;conv2 -->\n",
       "<g id=\"edge3\" class=\"edge\"><title>max_pool1&#45;&gt;conv2</title>\n",
       "<path fill=\"none\" stroke=\"#aaaaaa\" stroke-width=\"2.5\" d=\"M351.022,-503.697C350.209,-496.576 349.243,-488.129 348.327,-480.108\"/>\n",
       "<polygon fill=\"#aaaaaa\" stroke=\"#aaaaaa\" points=\"352.49,-479.55 346.955,-468.104 344.145,-480.504 352.49,-479.55\"/>\n",
       "</g>\n",
       "<!-- max_pool1&#45;&gt;training -->\n",
       "<g id=\"edge11\" class=\"edge\"><title>max_pool1&#45;&gt;training</title>\n",
       "<path fill=\"none\" stroke=\"#aaaaaa\" stroke-width=\"2.5\" d=\"M368.004,-504.503C376.256,-494.588 386.006,-481.338 392,-468 408.58,-431.107 411,-419.447 411,-379 411,-379 411,-379 411,-161 411,-116.123 381.128,-71.7027 358.84,-44.8057\"/>\n",
       "<polygon fill=\"#aaaaaa\" stroke=\"#aaaaaa\" points=\"361.755,-41.7531 350.747,-35.3907 355.384,-47.2287 361.755,-41.7531\"/>\n",
       "</g>\n",
       "<!-- pool2 -->\n",
       "<g id=\"node5\" class=\"node\"><title>pool2</title>\n",
       "<ellipse fill=\"white\" stroke=\"#aaaaaa\" stroke-width=\"2\" cx=\"309\" cy=\"-378\" rx=\"36.096\" ry=\"18\"/>\n",
       "<text text-anchor=\"middle\" x=\"309\" y=\"-374.3\" font-family=\"Times,serif\" font-size=\"14.00\" fill=\"#414141\">pool2</text>\n",
       "</g>\n",
       "<!-- conv2&#45;&gt;pool2 -->\n",
       "<g id=\"edge4\" class=\"edge\"><title>conv2&#45;&gt;pool2</title>\n",
       "<path fill=\"none\" stroke=\"#aaaaaa\" stroke-width=\"2.5\" d=\"M336.469,-432.411C332.536,-424.765 327.761,-415.48 323.302,-406.81\"/>\n",
       "<polygon fill=\"#aaaaaa\" stroke=\"#aaaaaa\" points=\"326.944,-404.707 317.72,-395.956 319.474,-408.549 326.944,-404.707\"/>\n",
       "</g>\n",
       "<!-- conv2&#45;&gt;training -->\n",
       "<g id=\"edge13\" class=\"edge\"><title>conv2&#45;&gt;training</title>\n",
       "<path fill=\"none\" stroke=\"#aaaaaa\" stroke-width=\"2.5\" d=\"M350.532,-432.163C358.692,-405.787 373,-352.983 373,-307 373,-307 373,-307 373,-161 373,-120.54 358.426,-75.7331 347.329,-47.4803\"/>\n",
       "<polygon fill=\"#aaaaaa\" stroke=\"#aaaaaa\" points=\"351.107,-45.6213 342.69,-36.0929 343.328,-48.7907 351.107,-45.6213\"/>\n",
       "</g>\n",
       "<!-- fc1 -->\n",
       "<g id=\"node6\" class=\"node\"><title>fc1</title>\n",
       "<ellipse fill=\"white\" stroke=\"#aaaaaa\" stroke-width=\"2\" cx=\"280\" cy=\"-306\" rx=\"27\" ry=\"18\"/>\n",
       "<text text-anchor=\"middle\" x=\"280\" y=\"-302.3\" font-family=\"Times,serif\" font-size=\"14.00\" fill=\"#414141\">fc1</text>\n",
       "</g>\n",
       "<!-- pool2&#45;&gt;fc1 -->\n",
       "<g id=\"edge5\" class=\"edge\"><title>pool2&#45;&gt;fc1</title>\n",
       "<path fill=\"none\" stroke=\"#aaaaaa\" stroke-width=\"2.5\" d=\"M301.98,-360.055C298.881,-352.574 295.154,-343.579 291.657,-335.137\"/>\n",
       "<polygon fill=\"#aaaaaa\" stroke=\"#aaaaaa\" points=\"295.429,-333.268 286.955,-323.789 287.668,-336.483 295.429,-333.268\"/>\n",
       "</g>\n",
       "<!-- pool2&#45;&gt;training -->\n",
       "<g id=\"edge10\" class=\"edge\"><title>pool2&#45;&gt;training</title>\n",
       "<path fill=\"none\" stroke=\"#aaaaaa\" stroke-width=\"2.5\" d=\"M314.137,-360.134C321.714,-333.719 335,-280.865 335,-235 335,-235 335,-235 335,-161 335,-122.053 335,-77.0983 335,-48.3823\"/>\n",
       "<polygon fill=\"#aaaaaa\" stroke=\"#aaaaaa\" points=\"339.2,-48.0492 335,-36.0493 330.8,-48.0493 339.2,-48.0492\"/>\n",
       "</g>\n",
       "<!-- dropout -->\n",
       "<g id=\"node7\" class=\"node\"><title>dropout</title>\n",
       "<ellipse fill=\"white\" stroke=\"#aaaaaa\" stroke-width=\"2\" cx=\"222\" cy=\"-234\" rx=\"47.169\" ry=\"18\"/>\n",
       "<text text-anchor=\"middle\" x=\"222\" y=\"-230.3\" font-family=\"Times,serif\" font-size=\"14.00\" fill=\"#414141\">dropout</text>\n",
       "</g>\n",
       "<!-- fc1&#45;&gt;dropout -->\n",
       "<g id=\"edge6\" class=\"edge\"><title>fc1&#45;&gt;dropout</title>\n",
       "<path fill=\"none\" stroke=\"#aaaaaa\" stroke-width=\"2.5\" d=\"M267.415,-289.811C260.418,-281.367 251.521,-270.629 243.459,-260.899\"/>\n",
       "<polygon fill=\"#aaaaaa\" stroke=\"#aaaaaa\" points=\"246.668,-258.188 235.777,-251.628 240.2,-263.548 246.668,-258.188\"/>\n",
       "</g>\n",
       "<!-- fc1&#45;&gt;training -->\n",
       "<g id=\"edge14\" class=\"edge\"><title>fc1&#45;&gt;training</title>\n",
       "<path fill=\"none\" stroke=\"#aaaaaa\" stroke-width=\"2.5\" d=\"M282.498,-287.947C288.265,-249.314 303.377,-152.233 321,-72 322.742,-64.0699 324.878,-55.5392 326.951,-47.6889\"/>\n",
       "<polygon fill=\"#aaaaaa\" stroke=\"#aaaaaa\" points=\"331.007,-48.7778 330.093,-36.0969 322.9,-46.5803 331.007,-48.7778\"/>\n",
       "</g>\n",
       "<!-- output -->\n",
       "<g id=\"node8\" class=\"node\"><title>output</title>\n",
       "<ellipse fill=\"white\" stroke=\"#aaaaaa\" stroke-width=\"2\" cx=\"189\" cy=\"-162\" rx=\"41.394\" ry=\"18\"/>\n",
       "<text text-anchor=\"middle\" x=\"189\" y=\"-158.3\" font-family=\"Times,serif\" font-size=\"14.00\" fill=\"#414141\">output</text>\n",
       "</g>\n",
       "<!-- dropout&#45;&gt;output -->\n",
       "<g id=\"edge7\" class=\"edge\"><title>dropout&#45;&gt;output</title>\n",
       "<path fill=\"none\" stroke=\"#aaaaaa\" stroke-width=\"2.5\" d=\"M214.012,-216.055C210.445,-208.489 206.147,-199.372 202.128,-190.847\"/>\n",
       "<polygon fill=\"#aaaaaa\" stroke=\"#aaaaaa\" points=\"205.831,-188.852 196.915,-179.789 198.233,-192.434 205.831,-188.852\"/>\n",
       "</g>\n",
       "<!-- dropout&#45;&gt;training -->\n",
       "<g id=\"edge15\" class=\"edge\"><title>dropout&#45;&gt;training</title>\n",
       "<path fill=\"none\" stroke=\"#aaaaaa\" stroke-width=\"2.5\" d=\"M227.431,-216.064C239.144,-180.025 267.016,-96.9916 283,-72 289.701,-61.5224 298.738,-51.4141 307.397,-42.8851\"/>\n",
       "<polygon fill=\"#aaaaaa\" stroke=\"#aaaaaa\" points=\"310.317,-45.905 316.171,-34.6194 304.557,-39.7909 310.317,-45.905\"/>\n",
       "</g>\n",
       "<!-- output&#45;&gt;loss -->\n",
       "<g id=\"edge9\" class=\"edge\"><title>output&#45;&gt;loss</title>\n",
       "<path fill=\"none\" stroke=\"#aaaaaa\" stroke-width=\"2.5\" d=\"M160.617,-148.901C135.656,-138.23 98.361,-122.21 66,-108 64.5855,-107.379 63.1423,-106.743 61.6851,-106.099\"/>\n",
       "<polygon fill=\"#aaaaaa\" stroke=\"#aaaaaa\" points=\"63.1535,-102.156 50.482,-101.119 59.7416,-109.832 63.1535,-102.156\"/>\n",
       "</g>\n",
       "<!-- output&#45;&gt;training -->\n",
       "<g id=\"edge18\" class=\"edge\"><title>output&#45;&gt;training</title>\n",
       "<path fill=\"none\" stroke=\"#aaaaaa\" stroke-width=\"2.5\" d=\"M196.502,-144.254C205.756,-125.018 222.997,-93.3653 245,-72 259.164,-58.2469 277.559,-46.6056 294.024,-37.7675\"/>\n",
       "<polygon fill=\"#aaaaaa\" stroke=\"#aaaaaa\" points=\"296.287,-41.3268 305.039,-32.1052 292.446,-33.8561 296.287,-41.3268\"/>\n",
       "</g>\n",
       "<!-- output&#45;&gt;evaluation -->\n",
       "<g id=\"edge19\" class=\"edge\"><title>output&#45;&gt;evaluation</title>\n",
       "<path fill=\"none\" stroke=\"#aaaaaa\" stroke-width=\"2.5\" d=\"M176.244,-144.765C169.812,-136.578 161.852,-126.448 154.582,-117.195\"/>\n",
       "<polygon fill=\"#aaaaaa\" stroke=\"#aaaaaa\" points=\"157.786,-114.474 147.069,-107.633 151.18,-119.664 157.786,-114.474\"/>\n",
       "</g>\n",
       "<!-- loss&#45;&gt;training -->\n",
       "<g id=\"edge16\" class=\"edge\"><title>loss&#45;&gt;training</title>\n",
       "<path fill=\"none\" stroke=\"#aaaaaa\" stroke-width=\"2.5\" d=\"M49.7741,-78.2484C55.0009,-75.9517 60.6273,-73.7068 66,-72 137.487,-49.2898 222.892,-34.4562 277.993,-26.4074\"/>\n",
       "<polygon fill=\"#aaaaaa\" stroke=\"#aaaaaa\" points=\"278.671,-30.5532 289.956,-24.6971 277.482,-22.2378 278.671,-30.5532\"/>\n",
       "</g>\n",
       "</g>\n",
       "</svg>\n"
      ],
      "text/plain": [
       "<graphviz.dot.Digraph at 0x7fe519660ac8>"
      ]
     },
     "execution_count": 9,
     "metadata": {},
     "output_type": "execute_result"
    }
   ],
   "source": [
    "tf.reset_default_graph()\n",
    "g = tf.get_default_graph()\n",
    "\n",
    "# ネットワークの構築\n",
    "with tf.name_scope('input'):\n",
    "    x = tf.placeholder(tf.float32, [None, 28*28])\n",
    "    y_ = tf.placeholder(tf.float32, [None, 10])\n",
    "    x_image = tf.reshape(x, [-1, 28, 28, 1])\n",
    "with tf.name_scope('conv1'):\n",
    "    W_conv1 = weight_variable([5, 5, 1, 32])\n",
    "    b_conv1 = bias_variable([32])\n",
    "    h_conv1 = conv2d(x_image, W_conv1, b_conv1)\n",
    "\n",
    "with tf.name_scope('max_pool1'):\n",
    "    h_pool1 = max_pool2x2(h_conv1)\n",
    "\n",
    "with tf.name_scope('conv2'):\n",
    "    W_conv2 = weight_variable([5, 5, 32, 64])\n",
    "    b_conv2 = bias_variable([64])\n",
    "    h_conv2 = conv2d(h_pool1, W_conv2, b_conv2)\n",
    "\n",
    "with tf.name_scope('pool2'):\n",
    "    h_pool2 = max_pool2x2(h_conv2)\n",
    "\n",
    "with tf.name_scope('fc1'):\n",
    "    W_fc1 = weight_variable([7 * 7 * 64, 1024])\n",
    "    b_fc1 = bias_variable([1024])\n",
    "    h_pool2_flat = tf.reshape(h_pool2, [-1, 7 * 7 * 64])\n",
    "\n",
    "    h_fc1 = tf.nn.relu(tf.matmul(h_pool2_flat, W_fc1) + b_fc1)\n",
    "\n",
    "with tf.name_scope('dropout'):\n",
    "    keep_prob = tf.placeholder(tf.float32)\n",
    "    h_fc1_dropout = tf.nn.dropout(h_fc1, keep_prob)\n",
    "\n",
    "with tf.name_scope('output'):\n",
    "    W2 = weight_variable([1024, 10])\n",
    "    b2 = bias_variable([10])\n",
    "\n",
    "    output = tf.matmul(h_fc1_dropout, W2) + b2\n",
    "\n",
    "with tf.name_scope('loss'):\n",
    "    loss = tf.reduce_mean(tf.nn.softmax_cross_entropy_with_logits(logits=output, labels=y_))\n",
    "\n",
    "with tf.name_scope('training'):\n",
    "    train_op = tf.train.AdamOptimizer(1e-4).minimize(loss)\n",
    "\n",
    "with tf.name_scope('evaluation'):\n",
    "    correct_prediction = tf.equal(tf.argmax(output, 1), tf.argmax(y_, 1))\n",
    "    accuracy = tf.reduce_mean(tf.cast(correct_prediction, tf.float32))\n",
    "    \n",
    "tfg.board(g, depth=1, style=True)"
   ]
  },
  {
   "cell_type": "markdown",
   "metadata": {},
   "source": [
    "## 3. 学習 + 評価"
   ]
  },
  {
   "cell_type": "code",
   "execution_count": 16,
   "metadata": {},
   "outputs": [
    {
     "name": "stdout",
     "output_type": "stream",
     "text": [
      "10000/10000 [==============================] - 7449s  \n",
      "test accuracy: 0.99090\n",
      "test loss: 0.02728\n"
     ]
    }
   ],
   "source": [
    "# tensorflowのセッションの開始\n",
    "sess = tf.InteractiveSession()\n",
    "\n",
    "# 設定したtensorflowの変数や定数を初期化\n",
    "sess.run(tf.global_variables_initializer())\n",
    "\n",
    "train_accs   = []\n",
    "train_losses = []\n",
    "test_accs    = []\n",
    "test_losses  = []\n",
    "\n",
    "max_step = 10000\n",
    "pb = tf.contrib.keras.utils.Progbar(max_step)\n",
    "seen = 0\n",
    "\n",
    "# 学習の開始\n",
    "for step in range(1, max_step + 1):\n",
    "    # 50個ずつ画像とラベルをトレーニングデータセットから抽出する\n",
    "    batch_x, batch_y = mnist.train.next_batch(50)\n",
    "    feed_dict = {x: batch_x, y_:batch_y, keep_prob: 0.5}\n",
    "    \n",
    "    # 上記で抽出したトレーニングデータ・セットで学習させる\n",
    "    sess.run(train_op, feed_dict=feed_dict)\n",
    "    \n",
    "    # 損失と正解率を測定\n",
    "    train_acc, train_loss = sess.run([accuracy, loss], feed_dict={x: batch_x, y_:batch_y, keep_prob: 1.0})\n",
    "    \n",
    "    # 200 ステップに1回テストデータ・セットに対する損失と正解率を測定する\n",
    "    if step % 20 == 0:\n",
    "        test_x, test_y = mnist.test.images, mnist.test.labels\n",
    "        test_acc, test_loss = sess.run([accuracy, loss], feed_dict={x: test_x, y_: test_y, keep_prob: 1.0})\n",
    "        \n",
    "        train_accs.append(train_acc)\n",
    "        train_losses.append(train_loss)\n",
    "        test_accs.append(test_acc)\n",
    "        test_losses.append(test_loss)\n",
    "    if seen < max_step:\n",
    "        pb.update(seen)\n",
    "        seen += 1\n",
    "\n",
    "pb.update(seen, force=True)\n",
    "test_x, test_y = mnist.test.images, mnist.test.labels\n",
    "test_acc, test_loss = sess.run([accuracy, loss], feed_dict={x:test_x, y_:test_y, keep_prob: 1.0})\n",
    "print(\"test accuracy: %.5f\" % test_acc)\n",
    "print(\"test loss: %.5g\" % test_loss)"
   ]
  },
  {
   "cell_type": "markdown",
   "metadata": {},
   "source": [
    "### demo3の結果"
   ]
  },
  {
   "cell_type": "code",
   "execution_count": 18,
   "metadata": {},
   "outputs": [
    {
     "data": {
      "text/plain": [
       "<matplotlib.text.Text at 0x7fe5198ff0f0>"
      ]
     },
     "execution_count": 18,
     "metadata": {},
     "output_type": "execute_result"
    },
    {
     "data": {
      "image/png": "[encoded data removed]",
      "text/plain": [
       "<matplotlib.figure.Figure at 0x7fe4f49d2eb8>"
      ]
     },
     "metadata": {},
     "output_type": "display_data"
    },
    {
     "data": {
      "image/png": "[encoded data removed]",
      "text/plain": [
       "<matplotlib.figure.Figure at 0x7fe519a5fa90>"
      ]
     },
     "metadata": {},
     "output_type": "display_data"
    }
   ],
   "source": [
    "# グラフの表示\n",
    "## 正解率\n",
    "colors = sns.color_palette(\"Set2\", 10)\n",
    "sns.set_style('darkgrid')\n",
    "fig, ax = plt.subplots(1, 1, figsize=(10, 5))\n",
    "xvalues = np.arange(1, len(train_accs) + 1)\n",
    "ax.plot(xvalues, train_accs, label='demo3 train', color=colors[0])\n",
    "ax.plot(xvalues, test_accs, label='demo3 test', color=colors[1])\n",
    "ax.set_xlim(-10, 500)\n",
    "ax.set_xlabel(\"step\")\n",
    "ax.set_ylabel(\"accuracy\")\n",
    "plt.legend(loc='center right')\n",
    "ax.set_title('Demo1 accuracy')\n",
    "\n",
    "## 損失\n",
    "fig, ax = plt.subplots(1, 1, figsize=(10, 5))\n",
    "xvalues = np.arange(1, len(train_losses) + 1)\n",
    "ax.plot(xvalues, train_losses, label='demo3 train', color=colors[0])\n",
    "ax.plot(xvalues, test_losses, label='demo3 test', color=colors[1])\n",
    "ax.set_xlim(-10, 500)\n",
    "ax.set_xlabel(\"step\")\n",
    "ax.set_ylabel(\"loss\")\n",
    "plt.legend(loc='center right')\n",
    "ax.set_title('Demo1 loss')"
   ]
  },
  {
   "cell_type": "markdown",
   "metadata": {},
   "source": [
    "## 推論"
   ]
  },
  {
   "cell_type": "code",
   "execution_count": 38,
   "metadata": {},
   "outputs": [
    {
     "name": "stdout",
     "output_type": "stream",
     "text": [
      "予測: 4\n"
     ]
    },
    {
     "data": {
      "image/png": "[encoded data removed]",
      "text/plain": [
       "<matplotlib.figure.Figure at 0x7fe4f4447358>"
      ]
     },
     "metadata": {},
     "output_type": "display_data"
    }
   ],
   "source": [
    "# 推論する\n",
    "test_image_index = 6\n",
    "test_image_no = mnist.test.labels[test_image_index].argmax() + 1\n",
    "test_image_data = mnist.test.images[test_image_index]\n",
    "result = sess.run(output, feed_dict={x: [test_image_data], keep_prob: 1.0})\n",
    "\n",
    "sns.set_style('dark')\n",
    "fig = plt.figure(figsize=(8, 6))\n",
    "\n",
    "ax = fig.add_subplot(2, 1, 1)\n",
    "ax.imshow(test_image_data.reshape([28, 28]))\n",
    "ax.tick_params(labelbottom='off')\n",
    "ax.tick_params(labelleft='off')\n",
    "\n",
    "print(\"予測: %d\" % result.argmax())"
   ]
  },
  {
   "cell_type": "code",
   "execution_count": null,
   "metadata": {
    "collapsed": true
   },
   "outputs": [],
   "source": []
  }
 ],
 "metadata": {
  "kernelspec": {
   "display_name": "Python 3",
   "language": "python",
   "name": "python3"
  },
  "language_info": {
   "codemirror_mode": {
    "name": "ipython",
    "version": 3
   },
   "file_extension": ".py",
   "mimetype": "text/x-python",
   "name": "python",
   "nbconvert_exporter": "python",
   "pygments_lexer": "ipython3",
   "version": "3.6.1"
  }
 },
 "nbformat": 4,
 "nbformat_minor": 2
}
